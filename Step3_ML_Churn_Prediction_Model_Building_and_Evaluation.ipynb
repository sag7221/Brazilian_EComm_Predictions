{
 "cells": [
  {
   "cell_type": "markdown",
   "id": "9717b3d0",
   "metadata": {},
   "source": [
    "# Customer Churn Prediction"
   ]
  },
  {
   "cell_type": "code",
   "execution_count": 24,
   "id": "4525a2c9",
   "metadata": {},
   "outputs": [],
   "source": [
    "import pandas as pd\n",
    "import matplotlib.pyplot as plt\n",
    "from sklearn.preprocessing import StandardScaler\n",
    "import numpy as np\n",
    "from sklearn.model_selection import KFold\n",
    "from sklearn.model_selection import cross_val_predict\n",
    "from datetime import datetime \n",
    "from sklearn.model_selection import train_test_split\n",
    "import time\n",
    "from sklearn.inspection import permutation_importance\n",
    "from collections import Counter\n",
    "from imblearn.under_sampling import RandomUnderSampler\n",
    "from sklearn.linear_model import LogisticRegression"
   ]
  },
  {
   "cell_type": "markdown",
   "id": "4b67dbf4",
   "metadata": {},
   "source": [
    "## Load dataset"
   ]
  },
  {
   "cell_type": "code",
   "execution_count": 2,
   "id": "a06dc1b7",
   "metadata": {},
   "outputs": [
    {
     "data": {
      "text/html": [
       "<div>\n",
       "<style scoped>\n",
       "    .dataframe tbody tr th:only-of-type {\n",
       "        vertical-align: middle;\n",
       "    }\n",
       "\n",
       "    .dataframe tbody tr th {\n",
       "        vertical-align: top;\n",
       "    }\n",
       "\n",
       "    .dataframe thead th {\n",
       "        text-align: right;\n",
       "    }\n",
       "</style>\n",
       "<table border=\"1\" class=\"dataframe\">\n",
       "  <thead>\n",
       "    <tr style=\"text-align: right;\">\n",
       "      <th></th>\n",
       "      <th>customer_unique_id</th>\n",
       "      <th>customer_state_cat</th>\n",
       "      <th>avg_delivery_time</th>\n",
       "      <th>avg_review_upload_time</th>\n",
       "      <th>debt_customer</th>\n",
       "      <th>cash_customer</th>\n",
       "      <th>avg_wd_estimated_delivery_time</th>\n",
       "      <th>avg_wd_actual_delivery_time</th>\n",
       "      <th>avg_wd_delivery_time_delta</th>\n",
       "      <th>avg_is_late</th>\n",
       "      <th>product_cat</th>\n",
       "      <th>avg_review_score</th>\n",
       "      <th>avg_freight_value</th>\n",
       "      <th>avg_payment_value</th>\n",
       "      <th>avg_payment_installments</th>\n",
       "      <th>is_churn</th>\n",
       "    </tr>\n",
       "  </thead>\n",
       "  <tbody>\n",
       "    <tr>\n",
       "      <th>0</th>\n",
       "      <td>0000366f3b9a7992bf8c76cfdf3221e2</td>\n",
       "      <td>1</td>\n",
       "      <td>6</td>\n",
       "      <td>4</td>\n",
       "      <td>1.0</td>\n",
       "      <td>0.0</td>\n",
       "      <td>10</td>\n",
       "      <td>6</td>\n",
       "      <td>-5</td>\n",
       "      <td>0.0</td>\n",
       "      <td>1.0</td>\n",
       "      <td>5.0</td>\n",
       "      <td>12.00</td>\n",
       "      <td>141.90</td>\n",
       "      <td>8.0</td>\n",
       "      <td>0</td>\n",
       "    </tr>\n",
       "    <tr>\n",
       "      <th>1</th>\n",
       "      <td>0000b849f77a49e4a4ce2b2a4ca5be3f</td>\n",
       "      <td>1</td>\n",
       "      <td>3</td>\n",
       "      <td>0</td>\n",
       "      <td>0.0</td>\n",
       "      <td>0.0</td>\n",
       "      <td>7</td>\n",
       "      <td>2</td>\n",
       "      <td>-5</td>\n",
       "      <td>0.0</td>\n",
       "      <td>1.0</td>\n",
       "      <td>4.0</td>\n",
       "      <td>8.29</td>\n",
       "      <td>27.19</td>\n",
       "      <td>1.0</td>\n",
       "      <td>0</td>\n",
       "    </tr>\n",
       "    <tr>\n",
       "      <th>2</th>\n",
       "      <td>0000f46a3911fa3c0805444483337064</td>\n",
       "      <td>2</td>\n",
       "      <td>25</td>\n",
       "      <td>1</td>\n",
       "      <td>1.0</td>\n",
       "      <td>0.0</td>\n",
       "      <td>27</td>\n",
       "      <td>25</td>\n",
       "      <td>-2</td>\n",
       "      <td>0.0</td>\n",
       "      <td>0.0</td>\n",
       "      <td>3.0</td>\n",
       "      <td>17.22</td>\n",
       "      <td>86.22</td>\n",
       "      <td>8.0</td>\n",
       "      <td>1</td>\n",
       "    </tr>\n",
       "    <tr>\n",
       "      <th>3</th>\n",
       "      <td>0000f6ccb0745a6a4b88665a16c9f078</td>\n",
       "      <td>3</td>\n",
       "      <td>20</td>\n",
       "      <td>1</td>\n",
       "      <td>1.0</td>\n",
       "      <td>0.0</td>\n",
       "      <td>31</td>\n",
       "      <td>20</td>\n",
       "      <td>-12</td>\n",
       "      <td>0.0</td>\n",
       "      <td>0.0</td>\n",
       "      <td>4.0</td>\n",
       "      <td>17.63</td>\n",
       "      <td>43.62</td>\n",
       "      <td>4.0</td>\n",
       "      <td>1</td>\n",
       "    </tr>\n",
       "    <tr>\n",
       "      <th>4</th>\n",
       "      <td>0004aac84e0df4da2b147fca70cf8255</td>\n",
       "      <td>1</td>\n",
       "      <td>13</td>\n",
       "      <td>4</td>\n",
       "      <td>1.0</td>\n",
       "      <td>0.0</td>\n",
       "      <td>20</td>\n",
       "      <td>13</td>\n",
       "      <td>-8</td>\n",
       "      <td>0.0</td>\n",
       "      <td>0.0</td>\n",
       "      <td>5.0</td>\n",
       "      <td>16.89</td>\n",
       "      <td>196.89</td>\n",
       "      <td>6.0</td>\n",
       "      <td>0</td>\n",
       "    </tr>\n",
       "  </tbody>\n",
       "</table>\n",
       "</div>"
      ],
      "text/plain": [
       "                 customer_unique_id  customer_state_cat  avg_delivery_time  \\\n",
       "0  0000366f3b9a7992bf8c76cfdf3221e2                   1                  6   \n",
       "1  0000b849f77a49e4a4ce2b2a4ca5be3f                   1                  3   \n",
       "2  0000f46a3911fa3c0805444483337064                   2                 25   \n",
       "3  0000f6ccb0745a6a4b88665a16c9f078                   3                 20   \n",
       "4  0004aac84e0df4da2b147fca70cf8255                   1                 13   \n",
       "\n",
       "   avg_review_upload_time  debt_customer  cash_customer  \\\n",
       "0                       4            1.0            0.0   \n",
       "1                       0            0.0            0.0   \n",
       "2                       1            1.0            0.0   \n",
       "3                       1            1.0            0.0   \n",
       "4                       4            1.0            0.0   \n",
       "\n",
       "   avg_wd_estimated_delivery_time  avg_wd_actual_delivery_time  \\\n",
       "0                              10                            6   \n",
       "1                               7                            2   \n",
       "2                              27                           25   \n",
       "3                              31                           20   \n",
       "4                              20                           13   \n",
       "\n",
       "   avg_wd_delivery_time_delta  avg_is_late  product_cat  avg_review_score  \\\n",
       "0                          -5          0.0          1.0               5.0   \n",
       "1                          -5          0.0          1.0               4.0   \n",
       "2                          -2          0.0          0.0               3.0   \n",
       "3                         -12          0.0          0.0               4.0   \n",
       "4                          -8          0.0          0.0               5.0   \n",
       "\n",
       "   avg_freight_value  avg_payment_value  avg_payment_installments  is_churn  \n",
       "0              12.00             141.90                       8.0         0  \n",
       "1               8.29              27.19                       1.0         0  \n",
       "2              17.22              86.22                       8.0         1  \n",
       "3              17.63              43.62                       4.0         1  \n",
       "4              16.89             196.89                       6.0         0  "
      ]
     },
     "execution_count": 2,
     "metadata": {},
     "output_type": "execute_result"
    }
   ],
   "source": [
    "df=pd.read_csv('Output/cleaned_df.csv')\n",
    "df.head()"
   ]
  },
  {
   "cell_type": "code",
   "execution_count": 3,
   "id": "3c8c483b",
   "metadata": {},
   "outputs": [
    {
     "data": {
      "text/plain": [
       "(90476, 16)"
      ]
     },
     "execution_count": 3,
     "metadata": {},
     "output_type": "execute_result"
    }
   ],
   "source": [
    "df.shape"
   ]
  },
  {
   "cell_type": "code",
   "execution_count": 4,
   "id": "b017c6ea",
   "metadata": {},
   "outputs": [
    {
     "data": {
      "text/plain": [
       "customer_unique_id                 object\n",
       "customer_state_cat                  int64\n",
       "avg_delivery_time                   int64\n",
       "avg_review_upload_time              int64\n",
       "debt_customer                     float64\n",
       "cash_customer                     float64\n",
       "avg_wd_estimated_delivery_time      int64\n",
       "avg_wd_actual_delivery_time         int64\n",
       "avg_wd_delivery_time_delta          int64\n",
       "avg_is_late                       float64\n",
       "product_cat                       float64\n",
       "avg_review_score                  float64\n",
       "avg_freight_value                 float64\n",
       "avg_payment_value                 float64\n",
       "avg_payment_installments          float64\n",
       "is_churn                            int64\n",
       "dtype: object"
      ]
     },
     "execution_count": 4,
     "metadata": {},
     "output_type": "execute_result"
    }
   ],
   "source": [
    "df.dtypes"
   ]
  },
  {
   "cell_type": "code",
   "execution_count": 5,
   "id": "38cf718a",
   "metadata": {},
   "outputs": [
    {
     "data": {
      "text/plain": [
       "customer_unique_id                0\n",
       "customer_state_cat                0\n",
       "avg_delivery_time                 0\n",
       "avg_review_upload_time            0\n",
       "debt_customer                     0\n",
       "cash_customer                     0\n",
       "avg_wd_estimated_delivery_time    0\n",
       "avg_wd_actual_delivery_time       0\n",
       "avg_wd_delivery_time_delta        0\n",
       "avg_is_late                       0\n",
       "product_cat                       0\n",
       "avg_review_score                  0\n",
       "avg_freight_value                 0\n",
       "avg_payment_value                 0\n",
       "avg_payment_installments          0\n",
       "is_churn                          0\n",
       "dtype: int64"
      ]
     },
     "execution_count": 5,
     "metadata": {},
     "output_type": "execute_result"
    }
   ],
   "source": [
    "df.isna().sum()"
   ]
  },
  {
   "cell_type": "code",
   "execution_count": 6,
   "id": "f3e15635",
   "metadata": {},
   "outputs": [
    {
     "data": {
      "text/plain": [
       "0"
      ]
     },
     "execution_count": 6,
     "metadata": {},
     "output_type": "execute_result"
    }
   ],
   "source": [
    "df.duplicated().sum()"
   ]
  },
  {
   "cell_type": "markdown",
   "id": "92e0c95a",
   "metadata": {},
   "source": [
    "## Handle imbalnced dataset "
   ]
  },
  {
   "cell_type": "code",
   "execution_count": 9,
   "id": "eea5ac76",
   "metadata": {},
   "outputs": [
    {
     "name": "stderr",
     "output_type": "stream",
     "text": [
      "/opt/anaconda3/envs/mlenv/lib/python3.7/site-packages/ipykernel_launcher.py:4: FutureWarning: In a future version of pandas all arguments of DataFrame.drop except for the argument 'labels' will be keyword-only\n",
      "  after removing the cwd from sys.path.\n"
     ]
    }
   ],
   "source": [
    "# memisahkan X dan y\n",
    "\n",
    "y= df['is_churn']\n",
    "X= df.drop(['is_churn', 'customer_unique_id'],1)"
   ]
  },
  {
   "cell_type": "code",
   "execution_count": 10,
   "id": "fe159b69",
   "metadata": {},
   "outputs": [],
   "source": [
    "#Split train-test data\n",
    "X_train, X_test, y_train, y_test = train_test_split(X,y,test_size=0.30)"
   ]
  },
  {
   "cell_type": "code",
   "execution_count": 11,
   "id": "7b1dffd9",
   "metadata": {},
   "outputs": [],
   "source": [
    "scaler = StandardScaler()\n",
    "X_scaler = scaler.fit(X_train)\n",
    "X_train_scaled = X_scaler.transform(X_train)\n",
    "X_test_scaled = X_scaler.transform(X_test)"
   ]
  },
  {
   "cell_type": "code",
   "execution_count": 12,
   "id": "b844855e",
   "metadata": {},
   "outputs": [
    {
     "name": "stdout",
     "output_type": "stream",
     "text": [
      "Before undersampling:  Counter({0: 52337, 1: 10996})\n",
      "After undersampling:  Counter({0: 10996, 1: 10996})\n",
      "ROC AUC score for undersampled data:  0.8673048459930969\n"
     ]
    }
   ],
   "source": [
    "# summarize class distribution\n",
    "print(\"Before undersampling: \", Counter(y_train))\n",
    "\n",
    "# define undersampling strategy\n",
    "undersample = RandomUnderSampler(sampling_strategy='majority')\n",
    "\n",
    "# fit and apply the transform\n",
    "X_train_under, y_train_under = undersample.fit_resample(X_train_scaled, y_train)\n",
    "\n",
    "# summarize class distribution\n",
    "print(\"After undersampling: \", Counter(y_train_under))\n",
    "# import SVM libraries \n",
    "from sklearn.svm import SVC\n",
    "from sklearn.ensemble import RandomForestClassifier , GradientBoostingClassifier\n",
    "from sklearn.metrics import classification_report, roc_auc_score\n",
    "\n",
    "model=RandomForestClassifier()\n",
    "clf_under = model.fit(X_train_under, y_train_under)\n",
    "pred_under = clf_under.predict(X_test_scaled)\n",
    "\n",
    "print(\"ROC AUC score for undersampled data: \", roc_auc_score(y_test, pred_under))"
   ]
  },
  {
   "cell_type": "code",
   "execution_count": 13,
   "id": "8435abe2",
   "metadata": {},
   "outputs": [
    {
     "name": "stdout",
     "output_type": "stream",
     "text": [
      "Before oversampling:  Counter({0: 52337, 1: 10996})\n",
      "After oversampling:  Counter({0: 52337, 1: 52337})\n",
      "ROC AUC score for oversampled SMOTE data:  0.8044190492244745\n"
     ]
    }
   ],
   "source": [
    "from imblearn.over_sampling import SMOTE\n",
    "print(\"Before oversampling: \",Counter(y_train))\n",
    "\n",
    "# define oversampling strategy\n",
    "SMOTE = SMOTE()\n",
    "\n",
    "# fit and apply the transform\n",
    "X_train_SMOTE, y_train_SMOTE = SMOTE.fit_resample(X_train_scaled, y_train)\n",
    "\n",
    "# summarize class distribution\n",
    "print(\"After oversampling: \",Counter(y_train_SMOTE))\n",
    "\n",
    "model=RandomForestClassifier()\n",
    "clf_SMOTE = model.fit(X_train_SMOTE, y_train_SMOTE)\n",
    "pred_SMOTE = clf_SMOTE.predict(X_test_scaled)\n",
    "\n",
    "print(\"ROC AUC score for oversampled SMOTE data: \", roc_auc_score(y_test, pred_SMOTE))"
   ]
  },
  {
   "cell_type": "code",
   "execution_count": 14,
   "id": "5eb1f3d9",
   "metadata": {},
   "outputs": [
    {
     "name": "stdout",
     "output_type": "stream",
     "text": [
      "After oversampling:  Counter({1: 47275, 0: 34344})\n",
      "ROC AUC score for oversampled SMOTE data:  0.8555938482060261\n"
     ]
    }
   ],
   "source": [
    "from imblearn.combine import SMOTEENN\n",
    "smote_enn = SMOTEENN(random_state=0)\n",
    "# fit and apply the transform\n",
    "X_train_SMOTE, y_train_SMOTE = smote_enn.fit_resample(X_train_scaled, y_train)\n",
    "\n",
    "# summarize class distribution\n",
    "print(\"After oversampling: \",Counter(y_train_SMOTE))\n",
    "\n",
    "#PART 2\n",
    "# import SVM libraries \n",
    "from sklearn.svm import SVC\n",
    "from sklearn.metrics import classification_report, roc_auc_score\n",
    "\n",
    "model=RandomForestClassifier()\n",
    "clf_SMOTE = model.fit(X_train_SMOTE, y_train_SMOTE)\n",
    "pred_SMOTE = clf_SMOTE.predict(X_test_scaled)\n",
    "\n",
    "print(\"ROC AUC score for oversampled SMOTE data: \", roc_auc_score(y_test, pred_SMOTE))"
   ]
  },
  {
   "cell_type": "markdown",
   "id": "06dc77a1",
   "metadata": {},
   "source": [
    "## Feature Selection with Permutation Method"
   ]
  },
  {
   "cell_type": "code",
   "execution_count": 17,
   "id": "981e901f",
   "metadata": {},
   "outputs": [
    {
     "name": "stderr",
     "output_type": "stream",
     "text": [
      "/opt/anaconda3/envs/mlenv/lib/python3.7/site-packages/joblib/externals/loky/process_executor.py:705: UserWarning: A worker stopped while some jobs were given to the executor. This can be caused by a too short worker timeout or by a memory leak.\n",
      "  \"timeout or by a memory leak.\", UserWarning\n"
     ]
    },
    {
     "data": {
      "image/png": "[encoded data removed]",
      "text/plain": [
       "<Figure size 640x480 with 1 Axes>"
      ]
     },
     "metadata": {},
     "output_type": "display_data"
    }
   ],
   "source": [
    "#get feature importance for undersampling data\n",
    "#fit model\n",
    "model=RandomForestClassifier()\n",
    "clf_under.fit(X_train_under, y_train_under)\n",
    "\n",
    "#Feature importance based on feature permutation\n",
    "feature_names =X.columns\n",
    "start_time = time.time()\n",
    "result = permutation_importance(\n",
    "    clf_under, X_test_scaled, y_test, n_repeats=10, random_state=42, n_jobs=2\n",
    ")\n",
    "forest_importances = pd.Series(result.importances_mean, index=feature_names)\n",
    "\n",
    "fig, ax = plt.subplots()\n",
    "forest_importances.plot.bar(yerr=result.importances_std, ax=ax)\n",
    "ax.set_title(\"Feature importances using permutation method for Churn\")\n",
    "ax.set_ylabel(\"Mean accuracy decrease\")\n",
    "fig.tight_layout()\n",
    "plt.savefig('Output/FI_churn.jpg' )\n",
    "plt.show()"
   ]
  },
  {
   "cell_type": "code",
   "execution_count": 19,
   "id": "b6adb6c0",
   "metadata": {},
   "outputs": [
    {
     "data": {
      "text/plain": [
       "customer_state_cat               -0.000442\n",
       "avg_delivery_time                 0.000759\n",
       "avg_review_upload_time           -0.000475\n",
       "debt_customer                     0.000991\n",
       "cash_customer                    -0.000468\n",
       "avg_wd_estimated_delivery_time    0.009015\n",
       "avg_wd_actual_delivery_time       0.000818\n",
       "avg_wd_delivery_time_delta        0.001614\n",
       "avg_is_late                      -0.000652\n",
       "product_cat                       0.000722\n",
       "avg_review_score                  0.000523\n",
       "avg_freight_value                 0.034934\n",
       "avg_payment_value                 0.166544\n",
       "avg_payment_installments         -0.002653\n",
       "dtype: float64"
      ]
     },
     "execution_count": 19,
     "metadata": {},
     "output_type": "execute_result"
    }
   ],
   "source": [
    "#Feature importance\n",
    "forest_importances"
   ]
  },
  {
   "cell_type": "code",
   "execution_count": 20,
   "id": "4a4c9b06",
   "metadata": {},
   "outputs": [],
   "source": [
    "#Define input features based on feature improtance (>5%) & output\n",
    "important_features_list=['avg_delivery_time', 'debt_customer', 'avg_wd_estimated_delivery_time', \n",
    "                        'avg_wd_actual_delivery_time', 'avg_wd_delivery_time_delta', 'product_cat', 'avg_review_score',\n",
    "                        'avg_freight_value', 'avg_payment_value'] \n",
    "X=df[important_features_list].values \n",
    "Y=df['is_churn'].values\n"
   ]
  },
  {
   "cell_type": "markdown",
   "id": "cc7318dd",
   "metadata": {},
   "source": [
    "## K-fold Cross-Validation of Multiple Models"
   ]
  },
  {
   "cell_type": "code",
   "execution_count": 57,
   "id": "56be079f",
   "metadata": {},
   "outputs": [
    {
     "name": "stderr",
     "output_type": "stream",
     "text": [
      "/opt/anaconda3/envs/mlenv/lib/python3.7/site-packages/sklearn/neural_network/_multilayer_perceptron.py:696: ConvergenceWarning: Stochastic Optimizer: Maximum iterations (200) reached and the optimization hasn't converged yet.\n",
      "  ConvergenceWarning,\n",
      "/opt/anaconda3/envs/mlenv/lib/python3.7/site-packages/sklearn/neural_network/_multilayer_perceptron.py:696: ConvergenceWarning: Stochastic Optimizer: Maximum iterations (200) reached and the optimization hasn't converged yet.\n",
      "  ConvergenceWarning,\n",
      "/opt/anaconda3/envs/mlenv/lib/python3.7/site-packages/sklearn/neural_network/_multilayer_perceptron.py:696: ConvergenceWarning: Stochastic Optimizer: Maximum iterations (200) reached and the optimization hasn't converged yet.\n",
      "  ConvergenceWarning,\n",
      "/opt/anaconda3/envs/mlenv/lib/python3.7/site-packages/sklearn/neural_network/_multilayer_perceptron.py:696: ConvergenceWarning: Stochastic Optimizer: Maximum iterations (200) reached and the optimization hasn't converged yet.\n",
      "  ConvergenceWarning,\n",
      "/opt/anaconda3/envs/mlenv/lib/python3.7/site-packages/sklearn/neural_network/_multilayer_perceptron.py:696: ConvergenceWarning: Stochastic Optimizer: Maximum iterations (200) reached and the optimization hasn't converged yet.\n",
      "  ConvergenceWarning,\n"
     ]
    }
   ],
   "source": [
    "from sklearn.metrics import accuracy_score, recall_score, precision_score\n",
    "from sklearn.neighbors import KNeighborsClassifier\n",
    "from sklearn.svm import SVC\n",
    "from sklearn.ensemble import GradientBoostingClassifier\n",
    "from sklearn.tree import DecisionTreeClassifier\n",
    "from sklearn.naive_bayes import GaussianNB\n",
    "from sklearn.ensemble import AdaBoostClassifier\n",
    "from sklearn.neural_network import MLPClassifier\n",
    "\n",
    "\n",
    "# initial parameters\n",
    "K_FOLD = 5\n",
    "rus =RandomUnderSampler(sampling_strategy='majority')\n",
    "\n",
    "models={\"LogReg\": LogisticRegression(solver='lbfgs'),\n",
    "        \"KNN\": KNeighborsClassifier(),\n",
    "        \"LinearSVM\": SVC(probability=True, kernel='linear'),\n",
    "        \"GB\": GradientBoostingClassifier(),\n",
    "        \"DT\": DecisionTreeClassifier(),\n",
    "        \"RF\": RandomForestClassifier(),\n",
    "        \"NB\": GaussianNB(),\n",
    "       'AdaBoost': AdaBoostClassifier(),\n",
    "       'MLP': MLPClassifier()}\n",
    "\n",
    "ML = []\n",
    "execution_time = []\n",
    "auc_roc_agg = []\n",
    "accuracy_agg = []\n",
    "recall_agg = []\n",
    "precision_agg = []\n",
    "\n",
    "for model in models:\n",
    "    rfc = models[model]\n",
    "    pipeline = make_pipeline(rus, rfc)\n",
    "    \n",
    "    auc_roc = []\n",
    "    accuracy = []\n",
    "    recall = []\n",
    "    precision = []\n",
    "    \n",
    "    kf = KFold(n_splits=K_FOLD)\n",
    "    t0=dt.now()\n",
    "    for train_index, test_index in kf.split(X):\n",
    "        X_train, X_test = X[train_index], X[test_index]\n",
    "        y_train, y_test = y[train_index], y[test_index]\n",
    "        scaler = StandardScaler()\n",
    "        X_scaler = scaler.fit(X_train)\n",
    "        X_train_scaled = X_scaler.transform(X_train)\n",
    "        X_test_scaled = X_scaler.transform(X_test)\n",
    "        y_pred = pipeline.fit(X_train_scaled, y_train).predict(X_test_scaled)\n",
    "        auc_roc.append(roc_auc_score(y_test, y_pred))\n",
    "        accuracy.append(accuracy_score(y_test, y_pred))\n",
    "        recall.append(recall_score(y_test, y_pred))\n",
    "        precision.append(precision_score(y_test, y_pred))\n",
    "\n",
    "    ML.append(model)       \n",
    "    execution_time.append(datetime.now()- t0)\n",
    "    auc_roc_agg.append(mean(auc_roc))\n",
    "    accuracy_agg.append(mean(accuracy))\n",
    "    recall_agg.append(mean(recall))\n",
    "    precision_agg.append(mean(precision))"
   ]
  },
  {
   "cell_type": "code",
   "execution_count": 58,
   "id": "2e6c9126",
   "metadata": {},
   "outputs": [
    {
     "data": {
      "text/html": [
       "<div>\n",
       "<style scoped>\n",
       "    .dataframe tbody tr th:only-of-type {\n",
       "        vertical-align: middle;\n",
       "    }\n",
       "\n",
       "    .dataframe tbody tr th {\n",
       "        vertical-align: top;\n",
       "    }\n",
       "\n",
       "    .dataframe thead th {\n",
       "        text-align: right;\n",
       "    }\n",
       "</style>\n",
       "<table border=\"1\" class=\"dataframe\">\n",
       "  <thead>\n",
       "    <tr style=\"text-align: right;\">\n",
       "      <th></th>\n",
       "      <th>model</th>\n",
       "      <th>execution_time</th>\n",
       "      <th>auc_roc</th>\n",
       "      <th>accuracy</th>\n",
       "      <th>recall</th>\n",
       "      <th>precision</th>\n",
       "    </tr>\n",
       "  </thead>\n",
       "  <tbody>\n",
       "    <tr>\n",
       "      <th>0</th>\n",
       "      <td>LogReg</td>\n",
       "      <td>0 days 00:00:00.534935</td>\n",
       "      <td>0.800347</td>\n",
       "      <td>0.731432</td>\n",
       "      <td>0.905653</td>\n",
       "      <td>0.382844</td>\n",
       "    </tr>\n",
       "    <tr>\n",
       "      <th>1</th>\n",
       "      <td>KNN</td>\n",
       "      <td>0 days 00:00:03.625055</td>\n",
       "      <td>0.770647</td>\n",
       "      <td>0.719373</td>\n",
       "      <td>0.849006</td>\n",
       "      <td>0.365610</td>\n",
       "    </tr>\n",
       "    <tr>\n",
       "      <th>2</th>\n",
       "      <td>LinearSVM</td>\n",
       "      <td>0 days 00:08:01.155000</td>\n",
       "      <td>0.805423</td>\n",
       "      <td>0.711813</td>\n",
       "      <td>0.948463</td>\n",
       "      <td>0.369809</td>\n",
       "    </tr>\n",
       "    <tr>\n",
       "      <th>3</th>\n",
       "      <td>GB</td>\n",
       "      <td>0 days 00:00:10.739623</td>\n",
       "      <td>0.877049</td>\n",
       "      <td>0.827932</td>\n",
       "      <td>0.952101</td>\n",
       "      <td>0.501328</td>\n",
       "    </tr>\n",
       "    <tr>\n",
       "      <th>4</th>\n",
       "      <td>DT</td>\n",
       "      <td>0 days 00:00:00.641153</td>\n",
       "      <td>0.845804</td>\n",
       "      <td>0.849916</td>\n",
       "      <td>0.839515</td>\n",
       "      <td>0.542545</td>\n",
       "    </tr>\n",
       "    <tr>\n",
       "      <th>5</th>\n",
       "      <td>RF</td>\n",
       "      <td>0 days 00:00:13.255296</td>\n",
       "      <td>0.877066</td>\n",
       "      <td>0.840576</td>\n",
       "      <td>0.932824</td>\n",
       "      <td>0.521668</td>\n",
       "    </tr>\n",
       "    <tr>\n",
       "      <th>6</th>\n",
       "      <td>NB</td>\n",
       "      <td>0 days 00:00:00.177768</td>\n",
       "      <td>0.710923</td>\n",
       "      <td>0.561817</td>\n",
       "      <td>0.938769</td>\n",
       "      <td>0.275017</td>\n",
       "    </tr>\n",
       "    <tr>\n",
       "      <th>7</th>\n",
       "      <td>AdaBoost</td>\n",
       "      <td>0 days 00:00:03.031536</td>\n",
       "      <td>0.858388</td>\n",
       "      <td>0.796675</td>\n",
       "      <td>0.952679</td>\n",
       "      <td>0.457620</td>\n",
       "    </tr>\n",
       "    <tr>\n",
       "      <th>8</th>\n",
       "      <td>MLP</td>\n",
       "      <td>0 days 00:02:12.588960</td>\n",
       "      <td>0.832022</td>\n",
       "      <td>0.771398</td>\n",
       "      <td>0.924695</td>\n",
       "      <td>0.425754</td>\n",
       "    </tr>\n",
       "  </tbody>\n",
       "</table>\n",
       "</div>"
      ],
      "text/plain": [
       "       model         execution_time   auc_roc  accuracy    recall  precision\n",
       "0     LogReg 0 days 00:00:00.534935  0.800347  0.731432  0.905653   0.382844\n",
       "1        KNN 0 days 00:00:03.625055  0.770647  0.719373  0.849006   0.365610\n",
       "2  LinearSVM 0 days 00:08:01.155000  0.805423  0.711813  0.948463   0.369809\n",
       "3         GB 0 days 00:00:10.739623  0.877049  0.827932  0.952101   0.501328\n",
       "4         DT 0 days 00:00:00.641153  0.845804  0.849916  0.839515   0.542545\n",
       "5         RF 0 days 00:00:13.255296  0.877066  0.840576  0.932824   0.521668\n",
       "6         NB 0 days 00:00:00.177768  0.710923  0.561817  0.938769   0.275017\n",
       "7   AdaBoost 0 days 00:00:03.031536  0.858388  0.796675  0.952679   0.457620\n",
       "8        MLP 0 days 00:02:12.588960  0.832022  0.771398  0.924695   0.425754"
      ]
     },
     "execution_count": 58,
     "metadata": {},
     "output_type": "execute_result"
    }
   ],
   "source": [
    "results_dict={'model': ML,\n",
    "             'execution_time':execution_time,\n",
    "             'auc_roc':auc_roc_agg,\n",
    "            'accuracy':accuracy_agg,\n",
    "              'recall': recall_agg,\n",
    "              'precision': precision_agg\n",
    "             }\n",
    "results_df=pd.DataFrame(results_dict)\n",
    "results_df"
   ]
  },
  {
   "cell_type": "code",
   "execution_count": 62,
   "id": "1ce4157f",
   "metadata": {},
   "outputs": [
    {
     "data": {
      "image/png": "[encoded data removed]",
      "text/plain": [
       "<Figure size 2000x1000 with 4 Axes>"
      ]
     },
     "metadata": {},
     "output_type": "display_data"
    }
   ],
   "source": [
    "fig, (ax1, ax2,ax3, ax4)=plt.subplots(1, 4, figsize=(20, 10))\n",
    "results_df.plot.bar(x='model', y='auc_roc', rot=90,ax=ax1)\n",
    "results_df.plot.bar(x='model', y='accuracy', rot=90,ax=ax2)\n",
    "results_df.plot.bar(x='model', y='recall', rot=90,ax=ax3)\n",
    "results_df.plot.bar(x='model', y='precision', rot=90,ax=ax4)\n",
    "plt.savefig('Output/model_performance.png')\n",
    "plt.show()"
   ]
  },
  {
   "cell_type": "code",
   "execution_count": null,
   "id": "96820d22",
   "metadata": {},
   "outputs": [],
   "source": []
  }
 ],
 "metadata": {
  "kernelspec": {
   "display_name": "mlenv",
   "language": "python",
   "name": "mlenv"
  },
  "language_info": {
   "codemirror_mode": {
    "name": "ipython",
    "version": 3
   },
   "file_extension": ".py",
   "mimetype": "text/x-python",
   "name": "python",
   "nbconvert_exporter": "python",
   "pygments_lexer": "ipython3",
   "version": "3.7.13"
  }
 },
 "nbformat": 4,
 "nbformat_minor": 5
}
